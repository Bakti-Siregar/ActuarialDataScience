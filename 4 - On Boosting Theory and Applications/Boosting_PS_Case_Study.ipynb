{
 "cells": [
  {
   "cell_type": "markdown",
   "metadata": {},
   "source": [
    "# *Boosting Claims Predictions: an Analysis on Kaggle Data* \n"
   ]
  },
  {
   "cell_type": "markdown",
   "metadata": {},
   "source": [
    "# Abstract"
   ]
  },
  {
   "cell_type": "markdown",
   "metadata": {},
   "source": [
    "Predictive modeling on data from the Porto Seguro’s Safe Driver Prediction competition hosted on the Kaggle platform is performed leveraging machine learning boosting algorithms (`AdaBoost` and `XGBoost`). We refer to the document \"On Boosting: Theory and Applications\" to complement the analysis presented in this notebook."
   ]
  },
  {
   "cell_type": "markdown",
   "metadata": {},
   "source": [
    "# Getting Started with Python and Jupyter Notebook"
   ]
  },
  {
   "cell_type": "markdown",
   "metadata": {},
   "source": [
    "In this section, Jupyter Notebook and Python settings are initialized. For code in Python, the [PEP8 standard](https://www.python.org/dev/peps/pep-0008/) (\"PEP = Python Enhancement Proposal\") is enforced with minor variations to improve readibility. "
   ]
  },
  {
   "cell_type": "code",
   "execution_count": null,
   "metadata": {},
   "outputs": [],
   "source": [
    "# Notebook settings\n",
    "###################\n",
    "\n",
    "# resetting variables\n",
    "get_ipython().magic('reset -sf') \n",
    "\n",
    "# formatting: cell width\n",
    "from IPython.core.display import display, HTML\n",
    "display(HTML(\"<style>.container { width:100% !important; }</style>\"))\n",
    "\n",
    "# plotting\n",
    "%matplotlib inline"
   ]
  },
  {
   "cell_type": "code",
   "execution_count": null,
   "metadata": {},
   "outputs": [],
   "source": [
    "# importing xgboost REMARK: run this cell only if other imports failed. Delete it in case xgboost has been already imported\n",
    "import pip\n",
    "pip.main(['install', 'xgboost'])"
   ]
  },
  {
   "cell_type": "code",
   "execution_count": null,
   "metadata": {},
   "outputs": [],
   "source": [
    "# loading Python packages\n",
    "#########################\n",
    "\n",
    "# scientific packages\n",
    "import pandas as pd\n",
    "import numpy as np\n",
    "import matplotlib.pyplot as plt\n",
    "import seaborn as sns\n",
    "import sklearn\n",
    "import scipy\n",
    "\n",
    "# boosting\n",
    "import xgboost\n",
    "from xgboost import XGBClassifier\n",
    "from xgboost import plot_importance\n",
    "\n",
    "# scipy\n",
    "from scipy.stats import chi2\n",
    "\n",
    "# pandas: selected modules and functions\n",
    "from pandas.plotting import scatter_matrix\n",
    "\n",
    "# sklearn: selected modules and functions\n",
    "from sklearn import decomposition\n",
    "from sklearn.decomposition import PCA\n",
    "\n",
    "from sklearn.preprocessing import Imputer\n",
    "from sklearn.preprocessing import PolynomialFeatures\n",
    "from sklearn.preprocessing import StandardScaler\n",
    "from sklearn.preprocessing import scale\n",
    "\n",
    "from sklearn.tree import DecisionTreeClassifier\n",
    "from sklearn.ensemble import AdaBoostClassifier\n",
    "\n",
    "from sklearn.utils import shuffle\n",
    "\n",
    "from sklearn.feature_selection import VarianceThreshold\n",
    "from sklearn.feature_selection import SelectFromModel\n",
    "\n",
    "from sklearn.model_selection import train_test_split\n",
    "from sklearn.model_selection import StratifiedKFold\n",
    "from sklearn.model_selection import GridSearchCV\n",
    "\n",
    "from sklearn.linear_model import LogisticRegression\n",
    "from sklearn.tree import DecisionTreeClassifier\n",
    "from sklearn.ensemble import RandomForestClassifier, AdaBoostClassifier\n",
    "from sklearn.pipeline import Pipeline\n",
    "\n",
    "from sklearn.metrics import roc_curve\n",
    "from sklearn.metrics import auc \n",
    "from sklearn.metrics import roc_auc_score\n",
    "from sklearn.metrics import accuracy_score\n",
    "from sklearn.metrics import precision_score\n",
    "from sklearn.metrics import recall_score\n",
    "from sklearn.metrics import classification_report\n",
    "from sklearn.metrics import zero_one_loss\n",
    "\n",
    "# utilities\n",
    "from datetime import datetime"
   ]
  },
  {
   "cell_type": "markdown",
   "metadata": {},
   "source": [
    "# Data Import"
   ]
  },
  {
   "cell_type": "markdown",
   "metadata": {},
   "source": [
    "For the given Kaggle competition, two datasets are provided, one for training data and the other for generating predictions to be submitted. The latter lacks of the target variable (denoted by `target` in the former): it will not be imported in this notebook. Therefore, the whole analysis is carried out on the original 'training' data. A remark on data acquisition procedure: a direct download from the Kaggle [Porto Seguro Challenge website](https://www.kaggle.com/c/porto-seguro-safe-driver-prediction/data) in a landing folder on a local machine is performed; original data are then copied in a separate folder and there unzipped. Import of unzipped data is performed using `pandas` as follows:"
   ]
  },
  {
   "cell_type": "code",
   "execution_count": null,
   "metadata": {},
   "outputs": [],
   "source": [
    "# data import: specify the path to the competition training data\n",
    "path = '...'\n",
    "data = pd.read_csv(path)"
   ]
  },
  {
   "cell_type": "markdown",
   "metadata": {},
   "source": [
    "Imported dataset, i.e. `data`, comprises of 595212 records and 59 columns:"
   ]
  },
  {
   "cell_type": "code",
   "execution_count": null,
   "metadata": {},
   "outputs": [],
   "source": [
    "print('Structure of imported data:', data.shape)"
   ]
  },
  {
   "cell_type": "markdown",
   "metadata": {},
   "source": [
    "Memory usage of `data`: "
   ]
  },
  {
   "cell_type": "code",
   "execution_count": null,
   "metadata": {},
   "outputs": [],
   "source": [
    "print('Memory usage of `data` (in bytes):', pd.DataFrame.memory_usage(data, index=True, deep=True).sum())"
   ]
  },
  {
   "cell_type": "markdown",
   "metadata": {},
   "source": [
    "# Structural Data Analysis"
   ]
  },
  {
   "cell_type": "markdown",
   "metadata": {},
   "source": [
    "From the data description on the Kaggle [Porto Seguro Challenge website](https://www.kaggle.com/c/porto-seguro-safe-driver-prediction/data) the following information on the features in `data` are provided:\n",
    "- Features that belong to similar groupings are tagged as such in the feature names (e.g.,  `ind`, `reg`, `car`, `calc`).\n",
    "- Feature names include the postfix `bin` to indicate binary features and `cat` to indicate categorical features. \n",
    "- Features without these designations are either continuous or ordinal. \n",
    "- Values of `-1` indicate that the feature was missing from the observation. \n",
    "- The target column `target` signifies whether or not a claim was filed for that policy holder.\n",
    "\n",
    "The variable `target` is therefore the label used to train the classifiers. Data types for all columns in `data` are shown below:"
   ]
  },
  {
   "cell_type": "code",
   "execution_count": null,
   "metadata": {},
   "outputs": [],
   "source": [
    "# data types\n",
    "data.info()"
   ]
  },
  {
   "cell_type": "markdown",
   "metadata": {},
   "source": [
    "Both integer and float data types are present; the variable `id` uniquely identifies data records; a quick check shows that no duplicate record exists:"
   ]
  },
  {
   "cell_type": "code",
   "execution_count": null,
   "metadata": {},
   "outputs": [],
   "source": [
    "# duplicates? None\n",
    "data.drop_duplicates().shape"
   ]
  },
  {
   "cell_type": "markdown",
   "metadata": {},
   "source": [
    "One continues by checking the first 10 entries of the `data` dataset before moving to a high level summary using `describe()`."
   ]
  },
  {
   "cell_type": "code",
   "execution_count": null,
   "metadata": {},
   "outputs": [],
   "source": [
    "# imported data: first 10 entries\n",
    "data.head(10).T"
   ]
  },
  {
   "cell_type": "code",
   "execution_count": null,
   "metadata": {},
   "outputs": [],
   "source": [
    "# imported data: statistical summaries with describe\n",
    "data.describe().T"
   ]
  },
  {
   "cell_type": "markdown",
   "metadata": {},
   "source": [
    "### Missing Values"
   ]
  },
  {
   "cell_type": "markdown",
   "metadata": {},
   "source": [
    "Missing values are encoded with `-1`, as discussed in the official data description on the  Kaggle [Porto Seguro Challenge website](https://www.kaggle.com/c/porto-seguro-safe-driver-prediction/data); therefore the following code is implemented to have an overview of all variables with missing values"
   ]
  },
  {
   "cell_type": "code",
   "execution_count": null,
   "metadata": {},
   "outputs": [],
   "source": [
    "# missing values (encoded as -1)\n",
    "feat_missing = []\n",
    "\n",
    "for f in data.columns:\n",
    "    missings = data[data[f] == -1][f].count()\n",
    "    if missings > 0:\n",
    "        feat_missing.append(f)\n",
    "        missings_perc = missings/data.shape[0]\n",
    "        \n",
    "        # printing summary of missing values\n",
    "        print('Variable {} has {} records ({:.2%}) with missing values'.format(f, missings, missings_perc))\n",
    "\n",
    "# how many variables do present missing values?\n",
    "print()\n",
    "print('In total, there are {} variables with missing values'.format(len(feat_missing)))"
   ]
  },
  {
   "cell_type": "markdown",
   "metadata": {},
   "source": [
    "Missing value imputation will be discussed in section [Imputation of missing values](#Imputation-of-missing-values).\n",
    "Due to the high number and different types of the features in `data`, univariate analysis is performed to gather insights on the provided data, as shown in the forthcoming section. "
   ]
  },
  {
   "cell_type": "markdown",
   "metadata": {},
   "source": [
    "# Univariate Analysis"
   ]
  },
  {
   "cell_type": "markdown",
   "metadata": {},
   "source": [
    "## Meta-Information-Encoding"
   ]
  },
  {
   "cell_type": "markdown",
   "metadata": {},
   "source": [
    "One starts the univariate analysis of `data` by recording the feature type into a meta-information data frame, as shown in [B. Carremans' kernel](https://www.kaggle.com/bertcarremans/data-preparation-exploration). This encoding will be extremely useful in the following, allowing for a feature type-targeted analyisis."
   ]
  },
  {
   "cell_type": "code",
   "execution_count": null,
   "metadata": {},
   "outputs": [],
   "source": [
    "# B. Carremans: recording meta-information for each column in train, following the official data description on the Kaggle Porto Seguro Challenge\n",
    "info = []\n",
    "\n",
    "for f in data.columns:\n",
    "\n",
    "    # defining the role (target and id have to be separated from the other features)\n",
    "    if f == 'target':\n",
    "        role = 'target'\n",
    "    elif f == 'id':\n",
    "        role = 'id'\n",
    "    else:\n",
    "        role = 'input'\n",
    "         \n",
    "    # defining the levels    \n",
    "    \n",
    "    # _bin postfix = binary feature (target is binary as well)\n",
    "    if 'bin' in f or f == 'target':\n",
    "        level = 'binary'\n",
    "    \n",
    "    # _cat postfix = categorical feature\n",
    "    elif 'cat' in f or f == 'id':\n",
    "        level = 'categorical'\n",
    "        \n",
    "    # continuous or ordinal features: those which are neither _bin nor _cat    \n",
    "    elif data[f].dtype == float:\n",
    "        level = 'interval'\n",
    "    else:\n",
    "        level = 'ordinal'    \n",
    "        \n",
    "    # initialize 'keep' to True for all variables except for id\n",
    "    keep = True\n",
    "    if f == 'id':\n",
    "        keep = False\n",
    "    \n",
    "    # defining the data type \n",
    "    dtype = data[f].dtype\n",
    "    \n",
    "    # creating a dictionary that contains all the metadata for the variable\n",
    "    f_dict = {\n",
    "        'varname': f,\n",
    "        'role': role,\n",
    "        'level': level,\n",
    "        'keep': keep,\n",
    "        'dtype': dtype\n",
    "    }\n",
    "    info.append(f_dict)\n",
    "\n",
    "# collecting all meta-information into a meta dataframe\n",
    "meta = pd.DataFrame(info, columns = ['varname', 'role', 'level', 'keep', 'dtype'])\n",
    "meta.set_index('varname', inplace = True)"
   ]
  },
  {
   "cell_type": "markdown",
   "metadata": {},
   "source": [
    "In summary, variables in `data` are of level `categorical`, `binary`, `ordinal` (i.e. categorical variables with an ordering of levels) and `interval` (i.e. discrete or semi-continuous numerical variables). The `meta` data frame collects all these meta-information, by construction."
   ]
  },
  {
   "cell_type": "code",
   "execution_count": null,
   "metadata": {},
   "outputs": [],
   "source": [
    "# showing meta-information data frame\n",
    "print(meta.shape)\n",
    "meta"
   ]
  },
  {
   "cell_type": "markdown",
   "metadata": {},
   "source": [
    "An aggregated view of `meta` is performed by grouping by `role` and `level`:"
   ]
  },
  {
   "cell_type": "code",
   "execution_count": null,
   "metadata": {},
   "outputs": [],
   "source": [
    "# showing meta-information aggregated view\n",
    "pd.DataFrame({'count' : meta.groupby(['role', 'level'])['role'].size()}).reset_index()"
   ]
  },
  {
   "cell_type": "markdown",
   "metadata": {},
   "source": [
    "## Frequency tables, bar-plots and histograms"
   ]
  },
  {
   "cell_type": "markdown",
   "metadata": {},
   "source": [
    "Thanks to the meta-information encoding, a quick check on frequency tables for all variables in `train` is easily performed; for each feature level (i.e. `binary`, `ordinal`, `categorical` and `interval`) one generates a dictionary whose keys are the features of the selected level and values given by the frequency of the feature levels. More explicitly:"
   ]
  },
  {
   "cell_type": "markdown",
   "metadata": {},
   "source": [
    "### Binary"
   ]
  },
  {
   "cell_type": "code",
   "execution_count": null,
   "metadata": {
    "scrolled": true
   },
   "outputs": [],
   "source": [
    "# choose feature level \n",
    "level = 'binary'\n",
    "\n",
    "# creating the dictionary with feature level counts \n",
    "ctabs = {}\n",
    "\n",
    "for f in meta[(meta.level == level) & (meta.keep)].index:\n",
    "    ctabs[f]=( pd.value_counts(data[f]) / data.shape[0] ) * 100\n",
    "    \n",
    "# printing the dictionary, with rounding of frequencies\n",
    "for f in ctabs.keys():\n",
    "    print(ctabs[f].round(2))\n",
    "    print() "
   ]
  },
  {
   "cell_type": "markdown",
   "metadata": {},
   "source": [
    "### Categorical"
   ]
  },
  {
   "cell_type": "markdown",
   "metadata": {},
   "source": [
    "The `14` categorical variables show different numbers of levels; they are summarized using the following code:"
   ]
  },
  {
   "cell_type": "code",
   "execution_count": null,
   "metadata": {},
   "outputs": [],
   "source": [
    "# categorical variables: summary of distinct levels\n",
    "\n",
    "# choose feature level \n",
    "level = 'categorical'\n",
    "\n",
    "for f in meta[(meta.level == 'categorical') & (meta.keep)].index:\n",
    "    dist_values = data[f].value_counts().shape[0]\n",
    "    print('Variable {} has {} distinct values'.format(f, dist_values))"
   ]
  },
  {
   "cell_type": "code",
   "execution_count": null,
   "metadata": {},
   "outputs": [],
   "source": [
    "# categorical variables: tabulation\n",
    "\n",
    "# choose feature level \n",
    "level = 'categorical'\n",
    "\n",
    "# creating the dictionary with feature level counts \n",
    "ctabs = {}\n",
    "\n",
    "for f in meta[(meta.level == level) & (meta.keep)].index:\n",
    "    ctabs[f] = ( pd.value_counts(data[f]) / data.shape[0] ) * 100\n",
    "    \n",
    "# printing the dictionary, with rounding of frequencies    \n",
    "for f in ctabs.keys():\n",
    "    print(ctabs[f].round(2))\n",
    "    print() "
   ]
  },
  {
   "cell_type": "markdown",
   "metadata": {},
   "source": [
    "### Interval"
   ]
  },
  {
   "cell_type": "markdown",
   "metadata": {},
   "source": [
    "Interval variables are characterized by quite different distributions; in fact some variables are semi-continuous (e.g. `ps_reg_03` or `ps_car_12`), while others are discretized ( e.g. `ps_reg_01` or  `ps_calc_01`): the code sample below provides an complete overview. "
   ]
  },
  {
   "cell_type": "code",
   "execution_count": null,
   "metadata": {
    "scrolled": true
   },
   "outputs": [],
   "source": [
    "# interval variables: tabulation \n",
    "\n",
    "# choose feature level \n",
    "level = 'interval'\n",
    "\n",
    "# creating the dictionary with feature level counts (missing values are dropped)\n",
    "ctabs = {}\n",
    "\n",
    "for f in meta[(meta.level == level) & (meta.keep)].index:\n",
    "    ctabs[f] = ( pd.value_counts(data[f]) / data.shape[0] ) * 100\n",
    "    \n",
    "# printing the dictionary, with rounding of frequencies    \n",
    "for f in ctabs.keys():\n",
    "    print(ctabs[f].round(2))\n",
    "    print() "
   ]
  },
  {
   "cell_type": "markdown",
   "metadata": {},
   "source": [
    "Therefore, `ps_reg_01`, `ps_calc_01`, `ps_calc_02`, `ps_calc_03` and `ps_reg_02` are displayed with bar charts, while `ps_reg_03`, `ps_car_12`, `ps_car_13`, `ps_car_14` and `ps_car_15` with histograms (missing values are removed to improve visualization)."
   ]
  },
  {
   "cell_type": "code",
   "execution_count": null,
   "metadata": {},
   "outputs": [],
   "source": [
    "# producing bar charts for selected variables\n",
    "v = list(['ps_reg_01', 'ps_reg_02', 'ps_calc_01', 'ps_calc_02', 'ps_calc_03'])\n",
    "sns.set( rc = {'figure.figsize': (10, 10)})\n",
    "\n",
    "for f in v:\n",
    "    plt.figure()\n",
    "    sns.countplot(x = f, data = data, linewidth=2, palette=\"Blues\")\n",
    "    plt.show()"
   ]
  },
  {
   "cell_type": "markdown",
   "metadata": {},
   "source": [
    "The variables `ps_calc_01`, `ps_calc_02`, `ps_calc_03` show an highly homogeneous distribution."
   ]
  },
  {
   "cell_type": "code",
   "execution_count": null,
   "metadata": {},
   "outputs": [],
   "source": [
    "# producing histograms for selected variables\n",
    "v = list(['ps_reg_03', 'ps_car_12', 'ps_car_13', 'ps_car_14', 'ps_car_15'])\n",
    "sns.set( rc = {'figure.figsize': (10, 10)})\n",
    "\n",
    "for f in v:\n",
    "    plt.figure()\n",
    "    sns.distplot(data.loc[data[f] != -1, f], kde = False)\n",
    "    plt.show()"
   ]
  },
  {
   "cell_type": "markdown",
   "metadata": {},
   "source": [
    "Variables `ps_reg_03`, `ps_car_12`, `ps_car_13`, `ps_car_14` show distributions with right tails. Additional considerations on interval `car` variables are collected in the forthcoming section."
   ]
  },
  {
   "cell_type": "markdown",
   "metadata": {},
   "source": [
    "#### On interval `car` variables: `ps_car_12`, ..., `ps_car_15`"
   ]
  },
  {
   "cell_type": "markdown",
   "metadata": {},
   "source": [
    "`car` variables are vehicle-related features, as stated in the Porto Seguro Kaggle challenge description. Therefore, it would interesting to inference on the nature of such variables, in the limits given by anonymization and lack of additional information. The most relevant case is represented by `ps_car_15`, which is obtained by square root of a feature with integer values"
   ]
  },
  {
   "cell_type": "code",
   "execution_count": null,
   "metadata": {
    "scrolled": false
   },
   "outputs": [],
   "source": [
    "squared = data['ps_car_15'] ** 2\n",
    "squared.value_counts()"
   ]
  },
  {
   "cell_type": "markdown",
   "metadata": {},
   "source": [
    "Therefore, one could suggest that `ps_car_15**2` represents the car manufacture age  with 0.0 =2000, 1.0 = 2001,..., 14.0 =2014, but no final confirmation of the statement is possible. Going backwards, one can try squaring the remaining variables and try to map results to typical car-relevant information for insurance, i.e. CC, weight, value etc. for the purpose of feature selection. However, in absence of additional information on the provided `car` variables, no additional analysis is performed."
   ]
  },
  {
   "cell_type": "markdown",
   "metadata": {},
   "source": [
    "### Ordinal"
   ]
  },
  {
   "cell_type": "markdown",
   "metadata": {},
   "source": [
    "The `16` ordinal variables are quickly displayed below. All variables except `ps_ind_01`, `ps_ind_03`, `ps_ind_14`, `ps_ind_15` and `ps_car_11` are of the `calc` type."
   ]
  },
  {
   "cell_type": "code",
   "execution_count": null,
   "metadata": {},
   "outputs": [],
   "source": [
    "# ordinal features: visualization\n",
    "\n",
    "# choose feature level \n",
    "level = 'ordinal'\n",
    "\n",
    "# producing histograms\n",
    "v = meta[(meta.level == level) & (meta.keep)].index\n",
    "sns.set( rc = {'figure.figsize': (10, 10)})\n",
    "\n",
    "for f in v:\n",
    "    plt.figure()\n",
    "     \n",
    "    sns.distplot(data[f], kde = False)\n",
    "    plt.show()"
   ]
  },
  {
   "cell_type": "markdown",
   "metadata": {},
   "source": [
    "`ps_ind_14` shows a strong skewness between ordinal levels, with concentration at `ps_ind_14 == 0` at 99% and monotonic decrease among levels. On the other hand, for `ps_car_11` the trend is monotone increasing. Level `5` in `ps_ind_01` breaks monotonicity. An overview of `ordinal` features is provided by tabulating the frequencies of levels, as done below."
   ]
  },
  {
   "cell_type": "code",
   "execution_count": null,
   "metadata": {},
   "outputs": [],
   "source": [
    "# ordinal features: tabulation\n",
    "\n",
    "# creating the dictionary with feature level counts (missing values are dropped)\n",
    "ctabs = {}\n",
    "level = 'ordinal'\n",
    "\n",
    "for f in meta[(meta.level == level) & (meta.keep)].index:\n",
    "    ctabs[f] = ( pd.value_counts(data[f]) / data.shape[0] ) * 100\n",
    "    \n",
    "# printing the dictionary    \n",
    "for f in ctabs.keys():\n",
    "    print(ctabs[f].round(2))\n",
    "    print() "
   ]
  },
  {
   "cell_type": "markdown",
   "metadata": {},
   "source": [
    "## `target` variable: class imbalance"
   ]
  },
  {
   "cell_type": "markdown",
   "metadata": {},
   "source": [
    "The `target` variable in the `data` dataset is highly imbalanced, as shown in the following code chunk:"
   ]
  },
  {
   "cell_type": "code",
   "execution_count": null,
   "metadata": {},
   "outputs": [],
   "source": [
    "# levels for the target variable \n",
    "lev_target = ( pd.crosstab(index = data['target'], columns = 'Frequency') / data.shape[0] ) * 100\n",
    "lev_target.round(2)"
   ]
  },
  {
   "cell_type": "markdown",
   "metadata": {},
   "source": [
    "# Data Visualization and Multivariate Analysis"
   ]
  },
  {
   "cell_type": "markdown",
   "metadata": {},
   "source": [
    "## Analysis of correlation for interval features"
   ]
  },
  {
   "cell_type": "markdown",
   "metadata": {},
   "source": [
    "Pearson and Spearman correlation of interval variables is discussed.  "
   ]
  },
  {
   "cell_type": "code",
   "execution_count": null,
   "metadata": {},
   "outputs": [],
   "source": [
    "# Pearson correlation matrix: computation and visualization\n",
    "\n",
    "# use method='pearson' resp. method='spearman' to compute Pearson resp. Spearman correlations\n",
    "def corr_heatmap(v):\n",
    "    correlations = data[v].corr(method='pearson')\n",
    "    fig = plt.subplots(figsize=(10, 10))\n",
    "\n",
    "    sns.heatmap(correlations,  center=0, fmt='.2f', cbar=False,\n",
    "                square=True, linewidths=1, annot=True,  cmap=\"YlGnBu\")\n",
    "    plt.xticks(rotation=90) \n",
    "    plt.yticks(rotation=0) \n",
    "    plt.show()\n",
    "\n",
    "# one applies the corr_heatmap function on the interval features    \n",
    "v = meta[(meta.level == 'interval') & (meta.keep)].index\n",
    "corr_heatmap(v)"
   ]
  },
  {
   "cell_type": "markdown",
   "metadata": {},
   "source": [
    "Scatterplots of high correlation variables are provided below, instead (**warning**: computationally intensive visualization)."
   ]
  },
  {
   "cell_type": "code",
   "execution_count": null,
   "metadata": {},
   "outputs": [],
   "source": [
    "# scatterplot high correlation interval variables\n",
    "import seaborn\n",
    "high = pd.Index(['ps_reg_01', 'ps_reg_02', 'ps_reg_03', 'ps_car_12', 'ps_car_13', 'ps_car_15'])\n",
    "pd.plotting.scatter_matrix(data[high], alpha = 0.2, figsize = (40, 40), diagonal = 'kde')"
   ]
  },
  {
   "cell_type": "markdown",
   "metadata": {},
   "source": [
    "## `target` vs. features"
   ]
  },
  {
   "cell_type": "markdown",
   "metadata": {},
   "source": [
    "### `target` vs. interval features"
   ]
  },
  {
   "cell_type": "markdown",
   "metadata": {},
   "source": [
    "The `10` `interval` features can be plotted against the `target` variable in either jitter plots or boxplots for the purpose of visual exploration of their distributions. Below we show a simple code chunk for producing jitter plots for the variables `ps_reg_03`, `ps_car_12` is provided; however, for sake of clarity in the exposition boxplots will be preferred."
   ]
  },
  {
   "cell_type": "code",
   "execution_count": null,
   "metadata": {},
   "outputs": [],
   "source": [
    "# jitter plots: an example\n",
    "sns.set( rc = {'figure.figsize': (10, 10)})\n",
    "feat = list(['ps_reg_03', 'ps_car_12'])\n",
    "\n",
    "for f in feat:\n",
    "    plt.figure()\n",
    "    sns.stripplot(y=f, x='target', data=data, jitter=True, palette=\"Blues\")\n",
    "    plt.show()"
   ]
  },
  {
   "cell_type": "markdown",
   "metadata": {},
   "source": [
    "Additional diagrams are given below. One starts with `ps_reg_01`:"
   ]
  },
  {
   "cell_type": "code",
   "execution_count": null,
   "metadata": {},
   "outputs": [],
   "source": [
    "# ps_reg_01\n",
    "sns.set( rc = {'figure.figsize': (10, 10)})\n",
    "sns.boxplot(x='target', y='ps_reg_01', data=data, linewidth=2, palette=\"Blues\")"
   ]
  },
  {
   "cell_type": "markdown",
   "metadata": {},
   "source": [
    "No relevant discrimination of the variable distributions along the `target` levels is detected. Then `ps_reg_02`:"
   ]
  },
  {
   "cell_type": "code",
   "execution_count": null,
   "metadata": {},
   "outputs": [],
   "source": [
    "# ps_reg_02\n",
    "sns.set( rc = {'figure.figsize': (10, 10)})\n",
    "sns.boxplot(x= \"target\", y =\"ps_reg_02\", data=data, linewidth=2, palette=\"Blues\")"
   ]
  },
  {
   "cell_type": "markdown",
   "metadata": {},
   "source": [
    " The variable distribution along the `target=1` level shows a wider spread w.r.t. the distribution along `target=0`. Few outliers are detected. One continues with `ps_reg_03`:"
   ]
  },
  {
   "cell_type": "code",
   "execution_count": null,
   "metadata": {},
   "outputs": [],
   "source": [
    "# ps_reg_03\n",
    "sns.set( rc = {'figure.figsize': (10, 10)})\n",
    "sns.boxplot(x='target', y ='ps_reg_03', data=data, linewidth=2, palette=\"Blues\")"
   ]
  },
  {
   "cell_type": "markdown",
   "metadata": {},
   "source": [
    "Relevant presence of outliers is identified; missing values are present for records with both `0` and `1` values of the `target` variable. On the other hand `ps_car_12`:"
   ]
  },
  {
   "cell_type": "code",
   "execution_count": null,
   "metadata": {},
   "outputs": [],
   "source": [
    "# ps_car_12\n",
    "sns.set( rc = {'figure.figsize': (10, 10)})\n",
    "sns.boxplot(x='target', y='ps_car_12', data=data, linewidth=2, palette=\"Blues\")"
   ]
  },
  {
   "cell_type": "markdown",
   "metadata": {},
   "source": [
    "Missing values are not present for records with `target=1`. Moving to `ps_car_13`:"
   ]
  },
  {
   "cell_type": "code",
   "execution_count": null,
   "metadata": {},
   "outputs": [],
   "source": [
    "# ps_car_13\n",
    "sns.set( rc = {'figure.figsize': (10, 10)})\n",
    "sns.boxplot(x='target', y='ps_car_13', data=data, linewidth=2, palette=\"Blues\")"
   ]
  },
  {
   "cell_type": "markdown",
   "metadata": {},
   "source": [
    "Strong presence of outliers, especially along `target=0`. Then `ps_car_14`:"
   ]
  },
  {
   "cell_type": "code",
   "execution_count": null,
   "metadata": {},
   "outputs": [],
   "source": [
    "# ps_car_14\n",
    "sns.set( rc = {'figure.figsize': (10, 10)})\n",
    "sns.boxplot(x='target', y='ps_car_14', data=data, linewidth=2, palette=\"Blues\")"
   ]
  },
  {
   "cell_type": "markdown",
   "metadata": {},
   "source": [
    "Outliers and missing values for both `target` levels are detected. Then `ps_car_15`:"
   ]
  },
  {
   "cell_type": "code",
   "execution_count": null,
   "metadata": {},
   "outputs": [],
   "source": [
    "# ps_car_15\n",
    "sns.set( rc = {'figure.figsize': (10, 10)})\n",
    "sns.boxplot(x='target', y='ps_car_15', data=data, linewidth=2, palette=\"Blues\")"
   ]
  },
  {
   "cell_type": "markdown",
   "metadata": {},
   "source": [
    "It shows the presence of both outliers and missing values for both `target` levels. We finish with `calc` features, starting with `ps_calc_01`:"
   ]
  },
  {
   "cell_type": "code",
   "execution_count": null,
   "metadata": {},
   "outputs": [],
   "source": [
    "# ps_calc_01\n",
    "sns.set( rc = {'figure.figsize': (10, 10)})\n",
    "sns.boxplot(x='target', y='ps_calc_01', data=data, linewidth=2, palette=\"Blues\")"
   ]
  },
  {
   "cell_type": "markdown",
   "metadata": {},
   "source": [
    "Continuing with `ps_calc_02`"
   ]
  },
  {
   "cell_type": "code",
   "execution_count": null,
   "metadata": {},
   "outputs": [],
   "source": [
    "# ps_calc_02\n",
    "sns.set( rc = {'figure.figsize': (10, 10)})\n",
    "sns.boxplot(x='target', y='ps_calc_02', data=data, linewidth=2, palette=\"Blues\")"
   ]
  },
  {
   "cell_type": "markdown",
   "metadata": {},
   "source": [
    "and finishing with `ps_calc_03`"
   ]
  },
  {
   "cell_type": "code",
   "execution_count": null,
   "metadata": {},
   "outputs": [],
   "source": [
    "# ps_calc_03\n",
    "sns.set( rc = {'figure.figsize': (10, 10)})\n",
    "sns.boxplot(x='target', y='ps_calc_03', data=data,linewidth=2, palette=\"Blues\")"
   ]
  },
  {
   "cell_type": "markdown",
   "metadata": {},
   "source": [
    "All `calc` variables, i.e. `ps_calc_01`, `ps_calc_02` and `ps_calc_03` show no discrimination along the `target` variable levels."
   ]
  },
  {
   "cell_type": "markdown",
   "metadata": {},
   "source": [
    "### `target` vs. binary, categorical and ordinal features"
   ]
  },
  {
   "cell_type": "markdown",
   "metadata": {},
   "source": [
    "One moves to the visual analysis of plots of `target` against the remaining variables in `data` and cross-tabulations for `binary` data."
   ]
  },
  {
   "cell_type": "code",
   "execution_count": null,
   "metadata": {},
   "outputs": [],
   "source": [
    "# binary features\n",
    "sns.set( rc = {'figure.figsize': (10, 10)})\n",
    "feat = meta[(meta.level == 'binary') & (meta.keep)].index\n",
    "\n",
    "for f in feat:\n",
    "    plt.figure()\n",
    "    sns.countplot(x=data[f], hue=data.target, data=data, palette=\"Blues\")\n",
    "    plt.show()"
   ]
  },
  {
   "cell_type": "code",
   "execution_count": null,
   "metadata": {},
   "outputs": [],
   "source": [
    "# for binary make a cross-tabulation rows : levels columns: 0/1 in %; sum of every row = 100%\n",
    "v = meta[(meta.level == 'binary') & (meta.keep)].index.drop('target')\n",
    "\n",
    "for f in v:\n",
    "    crosstab = pd.crosstab(index=data[f], columns=data['target'], margins=True) \n",
    "    cross = pd.DataFrame(data=crosstab.div(crosstab['All'], axis=0).drop('All', 1))\n",
    "    cross['All'] = crosstab.iloc[:,2]\n",
    "    print(cross)\n",
    "    print()    \n",
    "    print()"
   ]
  },
  {
   "cell_type": "markdown",
   "metadata": {},
   "source": [
    "A quick visual check suggests that no binary variable presents `0` or `1` levels showing a significant deviation from the global 96.4-3.6 noise-signal ratio. Moreover, no zero frequency cell is identified; zero cells can lead to numerical instability during the training routines (e.g. for logistic regression models). One continues with cross-tabulation of `target` against ordinal variables."
   ]
  },
  {
   "cell_type": "code",
   "execution_count": null,
   "metadata": {
    "scrolled": true
   },
   "outputs": [],
   "source": [
    " # for ordinal make a cross-tabulation rows : levels columns: 0/1 in %; sum of every row = 100%\n",
    "v = meta[(meta.level == 'ordinal') & (meta.keep)].index\n",
    "\n",
    "for f in v:\n",
    "    crosstab = pd.crosstab(index=data[f], columns=data['target'], margins=True) \n",
    "    cross = pd.DataFrame(data=crosstab.div(crosstab['All'], axis=0).drop('All', 1))\n",
    "    cross['All'] = crosstab.iloc[:,2]\n",
    "    print(cross)\n",
    "    print()    \n",
    "    print()    "
   ]
  },
  {
   "cell_type": "markdown",
   "metadata": {},
   "source": [
    "`calc` variables are characterized by zero cells for a limited number of variable levels. For example, zero cells appear for `ps_calc_12` at levels `ps_calc_12 == 9` and `ps_calc_12 == 10`. The number of records associated to levels for which complete separation holds, i.e. the emergence of zero cells in the cross-tabulation against `target`, is extremely low for all `calc` variables. In absence of additional information on provided data, it is not possible to produce inference on those data points, which could represent outliers to remove before modeling or records for which the absence of `target == 1` is fully justified by business considerations."
   ]
  },
  {
   "cell_type": "markdown",
   "metadata": {},
   "source": [
    "# Feature Engineering & Data Preparation for Modeling"
   ]
  },
  {
   "cell_type": "markdown",
   "metadata": {},
   "source": [
    "In this section we perform a series of transformations on `data` to pave the way to predictive modeling. "
   ]
  },
  {
   "cell_type": "markdown",
   "metadata": {},
   "source": [
    "## On numerical `calc` variables and univariate screening\n",
    "As mentioned in the document, the numerical `calc` variables will be dropped from further analysis, starting with a quick structural check on `data` and ending with a drop check."
   ]
  },
  {
   "cell_type": "code",
   "execution_count": null,
   "metadata": {},
   "outputs": [],
   "source": [
    "print('Structure of data before calc variable drop:', data.shape)"
   ]
  },
  {
   "cell_type": "code",
   "execution_count": null,
   "metadata": {},
   "outputs": [],
   "source": [
    "# dropping 'ps_calc_01',... 'ps_calc_14' variables and updating meta information\n",
    "vars_to_drop = ['ps_calc_01', 'ps_calc_02','ps_calc_03','ps_calc_04','ps_calc_05','ps_calc_06','ps_calc_07','ps_calc_08','ps_calc_09','ps_calc_10','ps_calc_11','ps_calc_12','ps_calc_13','ps_calc_14']\n",
    "data.drop(vars_to_drop, inplace = True, axis = 1)\n",
    "meta.loc[(vars_to_drop), 'keep'] = False  "
   ]
  },
  {
   "cell_type": "code",
   "execution_count": null,
   "metadata": {},
   "outputs": [],
   "source": [
    "print('Structure of data after calc variable drop:', data.shape)"
   ]
  },
  {
   "cell_type": "code",
   "execution_count": null,
   "metadata": {},
   "outputs": [],
   "source": [
    "data.info()"
   ]
  },
  {
   "cell_type": "markdown",
   "metadata": {},
   "source": [
    "## Imputation of missing values\n",
    "As discussed in the document, a straighforward imputation scheme is chosen and applied in the forthcoming code chunk:"
   ]
  },
  {
   "cell_type": "code",
   "execution_count": null,
   "metadata": {},
   "outputs": [],
   "source": [
    "# dropping 'ps_car_03_cat', 'ps_car_05_cat' and updating meta information\n",
    "vars_to_drop = ['ps_car_03_cat', 'ps_car_05_cat']\n",
    "data.drop(vars_to_drop, inplace = True, axis = 1)\n",
    "meta.loc[(vars_to_drop), 'keep'] = False  \n",
    "\n",
    "# imputing with the mean or mode using Imputer from sklearn.preprocessing\n",
    "from sklearn.preprocessing import Imputer\n",
    "\n",
    "mean_imp = Imputer(missing_values = -1, strategy = 'mean', axis = 0)\n",
    "mode_imp = Imputer(missing_values = -1, strategy = 'most_frequent', axis = 0)\n",
    "\n",
    "data['ps_reg_03'] = mean_imp.fit_transform(data[['ps_reg_03']]).ravel()\n",
    "data['ps_car_12'] = mean_imp.fit_transform(data[['ps_car_12']]).ravel()\n",
    "data['ps_car_14'] = mean_imp.fit_transform(data[['ps_car_14']]).ravel()\n",
    "data['ps_car_11'] = mode_imp.fit_transform(data[['ps_car_11']]).ravel()"
   ]
  },
  {
   "cell_type": "markdown",
   "metadata": {},
   "source": [
    "After imputation one has "
   ]
  },
  {
   "cell_type": "code",
   "execution_count": null,
   "metadata": {},
   "outputs": [],
   "source": [
    "print(data.shape)"
   ]
  },
  {
   "cell_type": "markdown",
   "metadata": {},
   "source": [
    "## Dummies\n",
    "Dummy variables for categorical features in `data` are created; the function `get_dummies` converts categorical variables into dummies dropping the original categorical variable from which the corresponding dummies are created from the resulting dataset and the first level. One-hot-encoding does not drop the first level, instead."
   ]
  },
  {
   "cell_type": "code",
   "execution_count": null,
   "metadata": {},
   "outputs": [],
   "source": [
    "# selecting categorical variables\n",
    "v = meta[(meta.level == 'categorical') & (meta.keep)].index\n",
    "print('Before dummification we have {} variables in train'.format(data.shape[1]))\n",
    "\n",
    "# creating dummy variables\n",
    "data = pd.get_dummies(data, columns = v, drop_first = True)\n",
    "print('After dummification we have {} variables in data'.format(data.shape[1]))"
   ]
  },
  {
   "cell_type": "markdown",
   "metadata": {},
   "source": [
    "After generation of dummy variables, the memory usage of the `data` dataset is increased:"
   ]
  },
  {
   "cell_type": "code",
   "execution_count": null,
   "metadata": {},
   "outputs": [],
   "source": [
    "print('Memory usage of `data` (in bytes):', pd.DataFrame.memory_usage(data,index=True, deep = True).sum())"
   ]
  },
  {
   "cell_type": "markdown",
   "metadata": {},
   "source": [
    "One can check that no categorical variable is present in the resulting dataset, as expected:"
   ]
  },
  {
   "cell_type": "code",
   "execution_count": null,
   "metadata": {},
   "outputs": [],
   "source": [
    "v = meta[(meta.level == 'categorical') & (meta.keep)].index\n",
    "data[v]"
   ]
  },
  {
   "cell_type": "markdown",
   "metadata": {},
   "source": [
    "A quick check on the columns of `data` after dummification ends this section:"
   ]
  },
  {
   "cell_type": "code",
   "execution_count": null,
   "metadata": {},
   "outputs": [],
   "source": [
    "print(data.columns.values)"
   ]
  },
  {
   "cell_type": "markdown",
   "metadata": {},
   "source": [
    "## On Randomness"
   ]
  },
  {
   "cell_type": "markdown",
   "metadata": {},
   "source": [
    "We now fix a `random_state` for reproducibility of results; it will be used in both train vs. test dataset splitting and modeling."
   ]
  },
  {
   "cell_type": "code",
   "execution_count": null,
   "metadata": {},
   "outputs": [],
   "source": [
    "random_state = 123"
   ]
  },
  {
   "cell_type": "markdown",
   "metadata": {},
   "source": [
    "## `train` and `test` datasets"
   ]
  },
  {
   "cell_type": "markdown",
   "metadata": {},
   "source": [
    "As mentioned in the document, `data` dataset is randomly split into `train` and `test` datasets. A not stratified approach is chosen and removal of both columns `id` and `target` from the training dataset is performed. "
   ]
  },
  {
   "cell_type": "code",
   "execution_count": null,
   "metadata": {},
   "outputs": [],
   "source": [
    "# split 80-20% (no stratification)\n",
    "X_train, X_test, y_train, y_test = train_test_split(data.drop(['id', 'target'], axis=1), \n",
    "                                                    data['target'], \n",
    "                                                    test_size=0.2,\n",
    "                                                    random_state=random_state\n",
    "                                                   )"
   ]
  },
  {
   "cell_type": "markdown",
   "metadata": {},
   "source": [
    "After the split, the following checks on the `train` and `test` datasets are performed:"
   ]
  },
  {
   "cell_type": "code",
   "execution_count": null,
   "metadata": {
    "scrolled": false
   },
   "outputs": [],
   "source": [
    "# structural checks\n",
    "print('Training dataset - dimensions:', X_train.shape)\n",
    "print('Test dataset - dimensions:', X_test.shape)\n",
    "print()\n",
    "print('Random split check:', X_train.shape[0] + X_test.shape[0] == data.shape[0])\n",
    "print()\n",
    "\n",
    "# imbalancing: check\n",
    "lev_target = ( pd.crosstab(index = data['target'], columns = 'count') / data.shape[0] ) * 100\n",
    "lev_target_train = ( pd.crosstab(index = y_train, columns = 'count') / y_train.shape[0] ) * 100\n",
    "lev_target_test = ( pd.crosstab(index = y_test, columns = 'count') / y_test.shape[0] ) * 100\n",
    "\n",
    "print('target class imbalance data:')\n",
    "print(lev_target)\n",
    "print()\n",
    "print('target class imbalance train:')\n",
    "print(lev_target_train)\n",
    "print()\n",
    "print('target class imbalance test:')\n",
    "print(lev_target_test)"
   ]
  },
  {
   "cell_type": "markdown",
   "metadata": {},
   "source": [
    "We then remove the original dataset `data` to free up some memory."
   ]
  },
  {
   "cell_type": "code",
   "execution_count": null,
   "metadata": {},
   "outputs": [],
   "source": [
    "del data"
   ]
  },
  {
   "cell_type": "markdown",
   "metadata": {},
   "source": [
    "We can export both `X_train` and `X_test` for later use, if needed:"
   ]
  },
  {
   "cell_type": "code",
   "execution_count": null,
   "metadata": {},
   "outputs": [],
   "source": [
    "# insert paths to export training and test data sets\n",
    "X_train.to_csv('...')\n",
    "X_test.to_csv('...')"
   ]
  },
  {
   "cell_type": "markdown",
   "metadata": {},
   "source": [
    "# Modeling"
   ]
  },
  {
   "cell_type": "markdown",
   "metadata": {},
   "source": [
    "## Modeling Strategies: short description"
   ]
  },
  {
   "cell_type": "markdown",
   "metadata": {
    "collapsed": true
   },
   "source": [
    "For the overview of the forthcoming modeling strategies we refer to the document."
   ]
  },
  {
   "cell_type": "markdown",
   "metadata": {},
   "source": [
    "## On the Porto Seguro challenge performance metric: normalized Gini coefficient"
   ]
  },
  {
   "cell_type": "markdown",
   "metadata": {},
   "source": [
    "The evaluation of fitted model on out-of-sample data is performed in the Porto Seguro Kaggle challenge by considering an ad-hoc performance measure, called normalized Gini coefficient, as discussed [here](https://www.kaggle.com/c/porto-seguro-safe-driver-prediction#evaluation). The code for the computation of the normalized Gini coefficient is provided in this [thread](https://www.kaggle.com/c/ClaimPredictionChallenge/discussion/703), for different programming languages. Below the Python implementation is presented."
   ]
  },
  {
   "cell_type": "code",
   "execution_count": null,
   "metadata": {},
   "outputs": [],
   "source": [
    "from sklearn.metrics import make_scorer\n",
    "\n",
    "# Gini coefficient\n",
    "def gini(actual, pred):\n",
    "    \n",
    "    # a structural check\n",
    "    assert (len(actual) == len(pred))\n",
    "    \n",
    "    # introducing an array called all\n",
    "    all = np.asarray(np.c_[actual, pred, np.arange(len(actual))], dtype=np.float)  #slicing along second axis\n",
    "    \n",
    "    # sorting the array along predicted probabilities (descending order) and along the index axis all[:, 2] in case of ties\n",
    "    all = all[np.lexsort((all[:, 2], -1 * all[:, 1]))]                             #\n",
    "\n",
    "    # towards the Gini coefficient\n",
    "    totalLosses = all[:, 0].sum()\n",
    "    giniSum = all[:, 0].cumsum().sum() / totalLosses\n",
    "\n",
    "    giniSum -= (len(actual) + 1) / 2.\n",
    "    return giniSum / len(actual)\n",
    "\n",
    "# normalized Gini coefficient\n",
    "def gini_normalized_score(actual, pred):\n",
    "    return gini(actual, pred) / gini(actual, actual)\n",
    "\n",
    "# score using the normalized Gini\n",
    "score_gini = make_scorer(gini_normalized_score, greater_is_better=True, needs_threshold = True)"
   ]
  },
  {
   "cell_type": "markdown",
   "metadata": {},
   "source": [
    "## Boosting: AdaBoost"
   ]
  },
  {
   "cell_type": "markdown",
   "metadata": {},
   "source": [
    "We start the boosting analysis with **AdaBoost**. We do implement 3 separate strategies: **ST0**, **ST1** and **ST2**."
   ]
  },
  {
   "cell_type": "markdown",
   "metadata": {},
   "source": [
    "#### ST0: default AdaBoost with `AdaBoostClassifier()`"
   ]
  },
  {
   "cell_type": "markdown",
   "metadata": {
    "collapsed": true
   },
   "source": [
    "Default AdaBoost with `AdaBoostClassifier()` is used for baseline modeling; we compare both SAMME and SAMME.R algorithms."
   ]
  },
  {
   "cell_type": "code",
   "execution_count": null,
   "metadata": {},
   "outputs": [],
   "source": [
    "# weak learner: tree stump \n",
    "tree = DecisionTreeClassifier(criterion='gini',                 #only Gini and information gain criteria are supported\n",
    "                              random_state= random_state,       #DecisionTreeClassifier() is not fully deterministic \n",
    "                              max_depth=1)                      #stump\n",
    "tree = tree.fit(X_train, y_train)\n",
    "\n",
    "# SAMME AdaBoost\n",
    "ada = AdaBoostClassifier(base_estimator=tree, \n",
    "                         algorithm='SAMME',\n",
    "                         random_state= random_state)\n",
    "ada = ada.fit(X_train, y_train)\n",
    "\n",
    "# SAMME.R AdaBoost\n",
    "ada_R = AdaBoostClassifier(base_estimator=tree, \n",
    "                           algorithm='SAMME.R', \n",
    "                           random_state= random_state)\n",
    "ada_R = ada_R.fit(X_train, y_train)"
   ]
  },
  {
   "cell_type": "markdown",
   "metadata": {},
   "source": [
    "The default AdaBoost implementation uses `n_estimators=50` and `learning_rate=1.0`. Out-of-sample performance for both SAMME and SAMME.R is computed below:"
   ]
  },
  {
   "cell_type": "code",
   "execution_count": null,
   "metadata": {},
   "outputs": [],
   "source": [
    "# SAMME AdaBoost classifier performance\n",
    "y_pred_proba_ada = ada.predict_proba(X_test)\n",
    "fpr, tpr, _ = roc_curve(y_test, y_pred_proba_ada[:, 1])\n",
    "roc_auc = auc(fpr, tpr)\n",
    "\n",
    "# SAMME.R AdaBoost classifier performance\n",
    "y_pred_proba_ada_R = ada_R.predict_proba(X_test)\n",
    "fpr_R, tpr_R, _ = roc_curve(y_test, y_pred_proba_ada_R[:, 1])\n",
    "roc_auc_R = auc(fpr_R, tpr_R)\n",
    "\n",
    "# AUC on test dataset\n",
    "print('AUC SAMME AdaBoost:', roc_auc_score(y_test, y_pred_proba_ada[:, 1]).round(3))\n",
    "print('AUC SAMME.R AdaBoost:', roc_auc_score(y_test, y_pred_proba_ada_R[:, 1]).round(3))"
   ]
  },
  {
   "cell_type": "markdown",
   "metadata": {},
   "source": [
    "#### ST1 or *interlude*: explorative comparison between SAMME and SAMME.R"
   ]
  },
  {
   "cell_type": "code",
   "execution_count": null,
   "metadata": {},
   "outputs": [],
   "source": [
    "# number of boosting iterations\n",
    "n_estimators = \n",
    "\n",
    "# tree stump and its out-of-sample error\n",
    "tree = DecisionTreeClassifier(criterion='gini', \n",
    "                               random_state=random_state,\n",
    "                               max_depth=1)\n",
    "tree.fit(X_train, y_train)\n",
    "\n",
    "# SAMME AdaBoost\n",
    "ada = AdaBoostClassifier(base_estimator=tree,\n",
    "                         algorithm='SAMME',\n",
    "                         n_estimators=n_estimators,\n",
    "                         random_state=random_state\n",
    "                        )\n",
    "ada.fit(X_train, y_train)\n",
    "\n",
    "# SAMME.R AdaBoost\n",
    "ada_R = AdaBoostClassifier(base_estimator=tree,\n",
    "                           algorithm='SAMME.R',\n",
    "                           n_estimators=n_estimators,\n",
    "                           random_state=random_state\n",
    "                          )       \n",
    "ada_R.fit(X_train, y_train)"
   ]
  },
  {
   "cell_type": "code",
   "execution_count": null,
   "metadata": {},
   "outputs": [],
   "source": [
    "# plotting in-sample and out-of-sample error of both SAMME and SAMME.R AdaBoost algorithms as function of boosting iterations.\n",
    "# the max number of boosting iterations is given by n_estimators\n",
    "fig = plt.figure()\n",
    "ax = fig.add_subplot(111)\n",
    "\n",
    "ada_err_test = np.zeros((n_estimators,))\n",
    "for i, y_pred in enumerate(ada.staged_predict_proba(X_test)):\n",
    "    ada_err_test[i] = roc_auc_score(y_test, y_pred[:,1])\n",
    "     \n",
    "ada_err_train = np.zeros((n_estimators,))\n",
    "for i, y_pred in enumerate(ada.staged_predict_proba(X_train)):\n",
    "    ada_err_train[i] =  roc_auc_score(y_train,  y_pred[:,1])        \n",
    "        \n",
    "ada_R_err_test = np.zeros((n_estimators,))\n",
    "for i, y_pred in enumerate(ada_R.staged_predict_proba(X_test)):\n",
    "    ada_R_err_test[i] =  roc_auc_score(y_test, y_pred[:,1])\n",
    "\n",
    "ada_R_err_train = np.zeros((n_estimators,))\n",
    "for i, y_pred in enumerate(ada_R.staged_predict_proba(X_train)):\n",
    "    ada_R_err_train[i] =  roc_auc_score(y_train, y_pred[:,1])\n",
    "\n",
    "ax.plot(np.arange(n_estimators) + 1, ada_err_test,\n",
    "        label='SAMME AdaBoost Test AUC',\n",
    "        color='red')\n",
    "\n",
    "ax.plot(np.arange(n_estimators) + 1, ada_err_train,\n",
    "        label='SAMME AdaBoost Train AUC',\n",
    "        color='blue')\n",
    "\n",
    "ax.plot(np.arange(n_estimators) + 1, ada_R_err_test,\n",
    "        label='SAMME.R AdaBoost Test AUC',\n",
    "        color='orange')\n",
    "\n",
    "ax.plot(np.arange(n_estimators) + 1, ada_R_err_train,\n",
    "        label='SAMME.R AdaBoost Train AUC',\n",
    "        color='green')        \n",
    "        \n",
    "ax.set_ylim((0.5, 0.8))\n",
    "ax.set_xlabel('n_estimators')\n",
    "ax.set_ylabel('AUC')\n",
    "\n",
    "leg = ax.legend(loc='lower right', fancybox=True)\n",
    "leg.get_frame().set_alpha(0.7) "
   ]
  },
  {
   "cell_type": "code",
   "execution_count": null,
   "metadata": {},
   "outputs": [],
   "source": [
    "# save plot (insert path to .png and .pdf)\n",
    "plt.savefig(r'...png')\n",
    "plt.savefig(r'...pdf')"
   ]
  },
  {
   "cell_type": "code",
   "execution_count": null,
   "metadata": {},
   "outputs": [],
   "source": [
    "# max Gini coefficient for each curve\n",
    "\n",
    "# ada\n",
    "print('Max SAMME train Gini:', (2*np.amax(ada_err_train)-1))\n",
    "print('Max SAMME test Gini:',(2*np.amax(ada_err_test)-1))\n",
    "\n",
    "# ada_R\n",
    "print('Max SAMME.R train Gini:',(2*np.amax(ada_R_err_train)-1))\n",
    "print('Max SAMME.R test Gini:',(2*np.amax(ada_R_err_test)-1))"
   ]
  },
  {
   "cell_type": "code",
   "execution_count": null,
   "metadata": {},
   "outputs": [],
   "source": [
    "# similarly, max AUC for each curve\n",
    "\n",
    "print('Max SAMME train AUC:', np.amax(ada_err_train))\n",
    "print('Max SAMME test AUC:',np.amax(ada_err_test))\n",
    "\n",
    "# ada_R\n",
    "print('Max SAMME.R train AUC:', np.amax(ada_R_err_train))\n",
    "print('Max SAMME.R test AUC:', np.amax(ada_R_err_test))"
   ]
  },
  {
   "cell_type": "code",
   "execution_count": null,
   "metadata": {},
   "outputs": [],
   "source": [
    "# addendum: retrieve position maximum test AUC SAMME.R\n",
    "np.argmax(ada_R_err_test)  # if x returned, the number of iterations is x+1"
   ]
  },
  {
   "cell_type": "markdown",
   "metadata": {},
   "source": [
    "#### ST2:hyper parameter tuning: `n_estimators`, `max_depth` and `learning_rate`"
   ]
  },
  {
   "cell_type": "code",
   "execution_count": null,
   "metadata": {},
   "outputs": [],
   "source": [
    "# GridSearch AdaBoost optimization (change the hyperparameters according to the run under consideration)\n",
    "param_grid = {                                     \n",
    "              'learning_rate': [0.001, 0.001, 0.1, 1], \n",
    "              'n_estimators': [100, 200, 300, 400] \n",
    "             } \n",
    "\n",
    "# tree as base learner\n",
    "tree = tree = DecisionTreeClassifier(criterion='gini',\n",
    "                                     random_state=random_state,\n",
    "                                     max_depth=1)\n",
    "\n",
    "boost = AdaBoostClassifier(base_estimator=tree,\n",
    "                           random_state=random_state)\n",
    "\n",
    "# cross-validation\n",
    "cv = StratifiedKFold(n_splits=5, \n",
    "                     shuffle=False, \n",
    "                     random_state=random_state)\n",
    "\n",
    "grid_boost = GridSearchCV(estimator=boost, \n",
    "                          param_grid=param_grid, \n",
    "                          scoring=score_gini, \n",
    "                          cv=cv, \n",
    "                          verbose=10)\n",
    "\n",
    "grid_boost.fit(X_train, y_train)"
   ]
  },
  {
   "cell_type": "code",
   "execution_count": null,
   "metadata": {},
   "outputs": [],
   "source": [
    "# best model/classifier\n",
    "clf_b = grid_boost.best_estimator_\n",
    "clf_b"
   ]
  },
  {
   "cell_type": "code",
   "execution_count": null,
   "metadata": {},
   "outputs": [],
   "source": [
    "# computing out-of-sample AUC for best classifier\n",
    "clf_b.fit(X_train, y_train)\n",
    "\n",
    "# test data: computing AUC\n",
    "y_scores = clf_b.decision_function(X_test) \n",
    "fpr, tpr, _ = roc_curve(y_test, y_scores)\n",
    "roc_auc = auc(fpr, tpr)\n",
    "\n",
    "# plotting ROC and showing AUC (on test data)\n",
    "plt.figure()\n",
    "lw = 2\n",
    "plt.plot(fpr, tpr, color='darkorange', lw=lw, label='ROC curve (area = %0.3f)' % roc_auc)\n",
    "plt.plot([0, 1], [0, 1], color='navy', lw=lw, linestyle='--')\n",
    "plt.xlim([0.0, 1.0])\n",
    "plt.ylim([0.0, 1.05])\n",
    "plt.xlabel('False Positive Rate')\n",
    "plt.ylabel('True Positive Rate')\n",
    "plt.title('ROC Curve')\n",
    "plt.legend(loc=\"lower right\")\n",
    "plt.show()    \n",
    "\n",
    "# AUC on test dataset\n",
    "print('AUC:', roc_auc_score(y_test, y_scores).round(3))"
   ]
  },
  {
   "cell_type": "markdown",
   "metadata": {},
   "source": [
    "## Boosting: XGBoost  "
   ]
  },
  {
   "cell_type": "markdown",
   "metadata": {},
   "source": [
    "We continue the boosting analysis with **XGBoost**. We do implement 2 separate strategies: **ST0** and **ST1**."
   ]
  },
  {
   "cell_type": "markdown",
   "metadata": {},
   "source": [
    "#### ST0: default XGBoost with `XGBClassifier()`"
   ]
  },
  {
   "cell_type": "markdown",
   "metadata": {},
   "source": [
    "\n",
    "Below the hyper-parameters of the default `XGBClassifier()` implementation are presented and fitting on `X_train` is performed."
   ]
  },
  {
   "cell_type": "code",
   "execution_count": null,
   "metadata": {},
   "outputs": [],
   "source": [
    "# fit model default hyper-parameters\n",
    "xgb_default = XGBClassifier(random_state=random_state)\n",
    "xgb_default.set_params()"
   ]
  },
  {
   "cell_type": "code",
   "execution_count": null,
   "metadata": {},
   "outputs": [],
   "source": [
    "# fitting the default XGBoostClassifier()\n",
    "xgb_default.fit(X_train, y_train)"
   ]
  },
  {
   "cell_type": "code",
   "execution_count": null,
   "metadata": {},
   "outputs": [],
   "source": [
    "# default XGBoost classifier performance\n",
    "y_pred_proba_xgb_default = xgb_default.predict_proba(X_test)\n",
    "fpr, tpr, _ = roc_curve(y_test, y_pred_proba_xgb_default[:, 1])\n",
    "roc_auc = auc(fpr, tpr)\n",
    "\n",
    "# AUC on test dataset\n",
    "print('AUC:', roc_auc_score(y_test, y_pred_proba_xgb_default[:, 1]).round(3))"
   ]
  },
  {
   "cell_type": "markdown",
   "metadata": {},
   "source": [
    "#### ST1: hyper parameter tuning:`max_depth`, `learning_rate`, `n_estimators` with fixed subsampling "
   ]
  },
  {
   "cell_type": "code",
   "execution_count": null,
   "metadata": {
    "scrolled": false
   },
   "outputs": [],
   "source": [
    "# GridSearch XGBoost optimization (change the hyperparameters according to the run under consideration)\n",
    "param_grid = {'max_depth': [1],                                                            \n",
    "              'learning_rate': [0.001, 0.01, 0.1, 1],\n",
    "              'n_estimators': [100, 300, 500],\n",
    "              'subsample': [0.5],\n",
    "              'colsample_bytree': [0.75]\n",
    "             } \n",
    "\n",
    "# cross-validation\n",
    "cv = StratifiedKFold(n_splits=5, \n",
    "                     shuffle=False, \n",
    "                     random_state=random_state)\n",
    "\n",
    "xgb = GridSearchCV(estimator=XGBClassifier(random_state=random_state), \n",
    "                   param_grid=param_grid, \n",
    "                   scoring=score_gini, \n",
    "                   cv=cv, \n",
    "                   verbose=10)\n",
    "\n",
    "xgb.fit(X_train, y_train)"
   ]
  },
  {
   "cell_type": "code",
   "execution_count": null,
   "metadata": {},
   "outputs": [],
   "source": [
    "# best score on CV-data\n",
    "print('Best Gini on CV-data:', xgb.best_score_)\n",
    "\n",
    "# parameters for best model\n",
    "print('Best set of hyperparameters:', xgb.best_params_)"
   ]
  },
  {
   "cell_type": "code",
   "execution_count": null,
   "metadata": {},
   "outputs": [],
   "source": [
    "# best xgb model\n",
    "xgb_best = xgb.best_estimator_\n",
    "xgb_best.fit(X_train, y_train)\n",
    "\n",
    "# best xgb predictions on test data and AUC\n",
    "y_pred_proba_xgb = xgb_best.predict_proba(X_test)\n",
    "fpr, tpr, _ = roc_curve(y_test, y_pred_proba_xgb[:, 1])\n",
    "roc_auc = auc(fpr, tpr)\n",
    "\n",
    "# plotting ROC and showing AUC (on test data)\n",
    "plt.figure()\n",
    "lw = 2\n",
    "plt.plot(fpr, tpr, color='darkorange', lw=lw, label='ROC curve (area = %0.3f)' % roc_auc)\n",
    "plt.plot([0, 1], [0, 1], color='navy', lw=lw, linestyle='--')\n",
    "plt.xlim([0.0, 1.0])\n",
    "plt.ylim([0.0, 1.05])\n",
    "plt.xlabel('False Positive Rate')\n",
    "plt.ylabel('True Positive Rate')\n",
    "plt.title('ROC Curve')\n",
    "plt.legend(loc=\"lower right\")\n",
    "plt.show()    \n",
    "\n",
    "# AUC on test dataset\n",
    "print('AUC:', roc_auc_score(y_test, y_pred_proba_xgb[:, 1]).round(3))"
   ]
  },
  {
   "cell_type": "markdown",
   "metadata": {},
   "source": [
    "And now we plot the feature importance from the best XGBoost model so far in **ST1**."
   ]
  },
  {
   "cell_type": "code",
   "execution_count": null,
   "metadata": {},
   "outputs": [],
   "source": [
    "# fitting best model (again, if not saved beforehand)\n",
    "xgb_best_ov = XGBClassifier(max_depth=,                                      \n",
    "                            learning_rate=,\n",
    "                            n_estimators=,\n",
    "                            subsample=0.5,\n",
    "                            colsample_bytree=0.75,\n",
    "                            random_state=random_state)\n",
    "xgb_best_ov.fit(X_train, y_train)"
   ]
  },
  {
   "cell_type": "code",
   "execution_count": null,
   "metadata": {
    "scrolled": true
   },
   "outputs": [],
   "source": [
    "# plotting feature importance graph: top 10 features\n",
    "plot_importance(xgb_best_ov, max_num_features=10)"
   ]
  }
 ],
 "metadata": {
  "kernelspec": {
   "display_name": "Python 3",
   "language": "python",
   "name": "python3"
  },
  "language_info": {
   "codemirror_mode": {
    "name": "ipython",
    "version": 3
   },
   "file_extension": ".py",
   "mimetype": "text/x-python",
   "name": "python",
   "nbconvert_exporter": "python",
   "pygments_lexer": "ipython3",
   "version": "3.6.4"
  },
  "toc": {
   "nav_menu": {
    "height": "143px",
    "width": "704px"
   },
   "number_sections": false,
   "sideBar": true,
   "skip_h1_title": false,
   "toc_cell": true,
   "toc_position": {
    "height": "838px",
    "left": "0px",
    "right": "1820px",
    "top": "111px",
    "width": "100px"
   },
   "toc_section_display": "none",
   "toc_window_display": false
  }
 },
 "nbformat": 4,
 "nbformat_minor": 2
}
